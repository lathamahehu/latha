{
 "cells": [
  {
   "cell_type": "code",
   "execution_count": 1,
   "id": "a7743f83-ea71-4dfb-b747-3de70101fa68",
   "metadata": {},
   "outputs": [],
   "source": [
    "from bs4 import BeautifulSoup\n",
    "import requests\n"
   ]
  },
  {
   "cell_type": "code",
   "execution_count": 9,
   "id": "ab39dd45-9a96-47b0-9c4b-3ba4504c77d3",
   "metadata": {},
   "outputs": [],
   "source": [
    "url =\"https://quotes.toscrape.com\""
   ]
  },
  {
   "cell_type": "code",
   "execution_count": 17,
   "id": "ef782b1b-a46f-4152-9ac2-13a3cb9bbbfa",
   "metadata": {},
   "outputs": [],
   "source": [
    "response = requests.get(url)"
   ]
  },
  {
   "cell_type": "code",
   "execution_count": 23,
   "id": "18924562-9773-460f-ae65-95d885bd938e",
   "metadata": {},
   "outputs": [
    {
     "name": "stdout",
     "output_type": "stream",
     "text": [
      "Request was successful!\n"
     ]
    }
   ],
   "source": [
    "if response.status_code == 200:\n",
    "    print(\"Request was successful!\")\n",
    "    # Add more code here if necessary\n"
   ]
  },
  {
   "cell_type": "code",
   "execution_count": 25,
   "id": "1ca48f80-6c35-4f09-b856-d8bd17f1cead",
   "metadata": {},
   "outputs": [],
   "source": [
    " soup = BeautifulSoup(response.content, 'html.parser')"
   ]
  },
  {
   "cell_type": "code",
   "execution_count": 27,
   "id": "3874dec3-dfa7-4282-806c-e54ccab0aff0",
   "metadata": {},
   "outputs": [],
   "source": [
    "quotes = soup.find_all('div', class_='quote')\n",
    "    "
   ]
  },
  {
   "cell_type": "code",
   "execution_count": 29,
   "id": "17c6dc03-7112-4c83-afda-954920d97a8f",
   "metadata": {},
   "outputs": [
    {
     "name": "stdout",
     "output_type": "stream",
     "text": [
      "1. “The world as we have created it is a process of our thinking. It cannot be changed without changing our thinking.” - Albert Einstein\n",
      "2. “It is our choices, Harry, that show what we truly are, far more than our abilities.” - J.K. Rowling\n",
      "3. “There are only two ways to live your life. One is as though nothing is a miracle. The other is as though everything is a miracle.” - Albert Einstein\n",
      "4. “The person, be it gentleman or lady, who has not pleasure in a good novel, must be intolerably stupid.” - Jane Austen\n",
      "5. “Imperfection is beauty, madness is genius and it's better to be absolutely ridiculous than absolutely boring.” - Marilyn Monroe\n",
      "6. “Try not to become a man of success. Rather become a man of value.” - Albert Einstein\n",
      "7. “It is better to be hated for what you are than to be loved for what you are not.” - André Gide\n",
      "8. “I have not failed. I've just found 10,000 ways that won't work.” - Thomas A. Edison\n",
      "9. “A woman is like a tea bag; you never know how strong it is until it's in hot water.” - Eleanor Roosevelt\n",
      "10. “A day without sunshine is like, you know, night.” - Steve Martin\n"
     ]
    }
   ],
   "source": [
    " for idx, quote in enumerate(quotes, 1):\n",
    "        text = quote.find('span', class_='text').get_text(strip=True)\n",
    "        author = quote.find('small', class_='author').get_text(strip=True)\n",
    "        print(f\"{idx}. {text} - {author}\")"
   ]
  },
  {
   "cell_type": "code",
   "execution_count": 31,
   "id": "e3860347-20ea-4033-8ca6-733748dc58c5",
   "metadata": {},
   "outputs": [
    {
     "name": "stdout",
     "output_type": "stream",
     "text": [
      "Failed to retrieve the webpage. Status code: 200\n"
     ]
    }
   ],
   "source": [
    "print(f\"Failed to retrieve the webpage. Status code: {response.status_code}\")"
   ]
  },
  {
   "cell_type": "code",
   "execution_count": null,
   "id": "4e6f9832-cb0b-4182-b4eb-336ea41c2e85",
   "metadata": {},
   "outputs": [],
   "source": []
  }
 ],
 "metadata": {
  "kernelspec": {
   "display_name": "Python [conda env:base] *",
   "language": "python",
   "name": "conda-base-py"
  },
  "language_info": {
   "codemirror_mode": {
    "name": "ipython",
    "version": 3
   },
   "file_extension": ".py",
   "mimetype": "text/x-python",
   "name": "python",
   "nbconvert_exporter": "python",
   "pygments_lexer": "ipython3",
   "version": "3.12.7"
  }
 },
 "nbformat": 4,
 "nbformat_minor": 5
}
