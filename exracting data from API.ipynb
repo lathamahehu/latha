{
 "cells": [
  {
   "cell_type": "code",
   "execution_count": 3,
   "id": "b02bdb1e-ba1f-4eba-879a-d96b2c03eab1",
   "metadata": {},
   "outputs": [],
   "source": [
    "import requests\n",
    "import urllib.parse\n"
   ]
  },
  {
   "cell_type": "code",
   "execution_count": 5,
   "id": "7e155f13-3df9-4bf8-9137-8474e0dd575b",
   "metadata": {},
   "outputs": [],
   "source": [
    "token = \"YOUR_TOKEN\"\n",
    "targetUrl = \"https://httpbin.co/ip\""
   ]
  },
  {
   "cell_type": "code",
   "execution_count": 7,
   "id": "965dad68-8e03-4d3b-bbde-c7c4a6c356a9",
   "metadata": {},
   "outputs": [],
   "source": [
    "encoded_url = urllib.parse.quote(targetUrl)\n",
    "url = \"http://api.scrape.do?token={}&url={}\".format(token, encoded_url)\n",
    "response = requests.request(\"GET\", url)\n"
   ]
  },
  {
   "cell_type": "code",
   "execution_count": 10,
   "id": "bae162f2-f47d-4a8b-965d-7d34db2f9dd1",
   "metadata": {},
   "outputs": [
    {
     "name": "stdout",
     "output_type": "stream",
     "text": [
      "{\"URL\":\"https://dashboard.scrape.do\",\"StatusCode\":401,\"Message\":[\"The API Token is inactive or incorrect.\"],\"PossibleCauses\":[\"Please check your account details in Scrape.do dashboard.\"],\"Contact\":\"Please don't hesitate to contact with us via support@scrape.do.\"}\n"
     ]
    }
   ],
   "source": [
    "print(response.text)"
   ]
  },
  {
   "cell_type": "code",
   "execution_count": 38,
   "id": "9d8524fe-e753-4f9c-ada1-168a16a6f574",
   "metadata": {},
   "outputs": [
    {
     "ename": "SyntaxError",
     "evalue": "invalid syntax (1286060591.py, line 1)",
     "output_type": "error",
     "traceback": [
      "\u001b[1;36m  Cell \u001b[1;32mIn[38], line 1\u001b[1;36m\u001b[0m\n\u001b[1;33m    javac MyProgram.java\u001b[0m\n\u001b[1;37m          ^\u001b[0m\n\u001b[1;31mSyntaxError\u001b[0m\u001b[1;31m:\u001b[0m invalid syntax\n"
     ]
    }
   ],
   "source": [
    "javac MyProgram.java  \n",
    "java MyProgram        \n"
   ]
  },
  {
   "cell_type": "code",
   "execution_count": 30,
   "id": "0d49160b-d5cb-46d4-8089-ea7cf0308b37",
   "metadata": {},
   "outputs": [
    {
     "ename": "SyntaxError",
     "evalue": "invalid syntax (2170214333.py, line 1)",
     "output_type": "error",
     "traceback": [
      "\u001b[1;36m  Cell \u001b[1;32mIn[30], line 1\u001b[1;36m\u001b[0m\n\u001b[1;33m    OkHttpClient client = new OkHttpClient().newBuilder()\u001b[0m\n\u001b[1;37m                 ^\u001b[0m\n\u001b[1;31mSyntaxError\u001b[0m\u001b[1;31m:\u001b[0m invalid syntax\n"
     ]
    }
   ],
   "source": [
    "OkHttpClient client = new OkHttpClient().newBuilder()\n",
    "  .build();"
   ]
  },
  {
   "cell_type": "code",
   "execution_count": 32,
   "id": "c068dc93-eda1-43cf-8e91-fd0aee561ead",
   "metadata": {},
   "outputs": [
    {
     "ename": "SyntaxError",
     "evalue": "invalid syntax (1900001255.py, line 1)",
     "output_type": "error",
     "traceback": [
      "\u001b[1;36m  Cell \u001b[1;32mIn[32], line 1\u001b[1;36m\u001b[0m\n\u001b[1;33m    MediaType mediaType = MediaType.parse(\"text/plain\");\u001b[0m\n\u001b[1;37m              ^\u001b[0m\n\u001b[1;31mSyntaxError\u001b[0m\u001b[1;31m:\u001b[0m invalid syntax\n"
     ]
    }
   ],
   "source": [
    "MediaType mediaType = MediaType.parse(\"text/plain\");"
   ]
  },
  {
   "cell_type": "code",
   "execution_count": 34,
   "id": "5a1cf386-0de8-4bc9-8642-e5a0811f07c2",
   "metadata": {},
   "outputs": [
    {
     "ename": "SyntaxError",
     "evalue": "invalid syntax (4050763861.py, line 1)",
     "output_type": "error",
     "traceback": [
      "\u001b[1;36m  Cell \u001b[1;32mIn[34], line 1\u001b[1;36m\u001b[0m\n\u001b[1;33m    RequestBody body = RequestBody.create(mediaType, \"\");\u001b[0m\n\u001b[1;37m                ^\u001b[0m\n\u001b[1;31mSyntaxError\u001b[0m\u001b[1;31m:\u001b[0m invalid syntax\n"
     ]
    }
   ],
   "source": [
    "RequestBody body = RequestBody.create(mediaType, \"\");"
   ]
  },
  {
   "cell_type": "code",
   "execution_count": 36,
   "id": "f0308d82-65c0-4772-85eb-099b27de1ae1",
   "metadata": {},
   "outputs": [
    {
     "ename": "SyntaxError",
     "evalue": "invalid syntax (452263520.py, line 1)",
     "output_type": "error",
     "traceback": [
      "\u001b[1;36m  Cell \u001b[1;32mIn[36], line 1\u001b[1;36m\u001b[0m\n\u001b[1;33m    String encoded_url = URLEncoder.encode(\"https://httpbin.co/anything\", \"UTF-8\");\u001b[0m\n\u001b[1;37m           ^\u001b[0m\n\u001b[1;31mSyntaxError\u001b[0m\u001b[1;31m:\u001b[0m invalid syntax\n"
     ]
    }
   ],
   "source": [
    "String encoded_url = URLEncoder.encode(\"https://httpbin.co/anything\", \"UTF-8\");\n"
   ]
  },
  {
   "cell_type": "code",
   "execution_count": 20,
   "id": "df9e3452-902b-457c-b89f-b0fdfaef7b1c",
   "metadata": {},
   "outputs": [
    {
     "ename": "SyntaxError",
     "evalue": "invalid syntax (2471575754.py, line 1)",
     "output_type": "error",
     "traceback": [
      "\u001b[1;36m  Cell \u001b[1;32mIn[20], line 1\u001b[1;36m\u001b[0m\n\u001b[1;33m    Request request = new Request.Builder()\u001b[0m\n\u001b[1;37m            ^\u001b[0m\n\u001b[1;31mSyntaxError\u001b[0m\u001b[1;31m:\u001b[0m invalid syntax\n"
     ]
    }
   ],
   "source": [
    "Request request = new Request.Builder()"
   ]
  },
  {
   "cell_type": "code",
   "execution_count": 22,
   "id": "5b7f19f7-fc0e-44c7-870d-9365d425c4f2",
   "metadata": {},
   "outputs": [
    {
     "ename": "SyntaxError",
     "evalue": "invalid syntax (2681285771.py, line 1)",
     "output_type": "error",
     "traceback": [
      "\u001b[1;36m  Cell \u001b[1;32mIn[22], line 1\u001b[1;36m\u001b[0m\n\u001b[1;33m    .url(\"https://api.scrape.do?token=YOUR_TOKEN&url=\" + encoded_url +\"\")\u001b[0m\n\u001b[1;37m    ^\u001b[0m\n\u001b[1;31mSyntaxError\u001b[0m\u001b[1;31m:\u001b[0m invalid syntax\n"
     ]
    }
   ],
   "source": [
    ".url(\"https://api.scrape.do?token=YOUR_TOKEN&url=\" + encoded_url +\"\")\n",
    "  "
   ]
  },
  {
   "cell_type": "code",
   "execution_count": 24,
   "id": "fd181561-f99c-4c81-bb3a-8fe063c568a8",
   "metadata": {},
   "outputs": [
    {
     "ename": "SyntaxError",
     "evalue": "invalid syntax (1104551255.py, line 1)",
     "output_type": "error",
     "traceback": [
      "\u001b[1;36m  Cell \u001b[1;32mIn[24], line 1\u001b[1;36m\u001b[0m\n\u001b[1;33m    .method(\"GET\", body)\u001b[0m\n\u001b[1;37m    ^\u001b[0m\n\u001b[1;31mSyntaxError\u001b[0m\u001b[1;31m:\u001b[0m invalid syntax\n"
     ]
    }
   ],
   "source": [
    ".method(\"GET\", body)"
   ]
  },
  {
   "cell_type": "code",
   "execution_count": null,
   "id": "e56b95c2-ea72-48f1-997c-bebd704cac79",
   "metadata": {},
   "outputs": [],
   "source": [
    ".build();"
   ]
  },
  {
   "cell_type": "code",
   "execution_count": null,
   "id": "85bfd575-4e8e-4916-b153-0310d02bffe1",
   "metadata": {},
   "outputs": [],
   "source": [
    "Response response = client.newCall(request).execute();"
   ]
  },
  {
   "cell_type": "code",
   "execution_count": null,
   "id": "89c49e45-d59c-42a1-94a9-05847007986c",
   "metadata": {},
   "outputs": [],
   "source": []
  }
 ],
 "metadata": {
  "kernelspec": {
   "display_name": "Python [conda env:base] *",
   "language": "python",
   "name": "conda-base-py"
  },
  "language_info": {
   "codemirror_mode": {
    "name": "ipython",
    "version": 3
   },
   "file_extension": ".py",
   "mimetype": "text/x-python",
   "name": "python",
   "nbconvert_exporter": "python",
   "pygments_lexer": "ipython3",
   "version": "3.12.7"
  }
 },
 "nbformat": 4,
 "nbformat_minor": 5
}
